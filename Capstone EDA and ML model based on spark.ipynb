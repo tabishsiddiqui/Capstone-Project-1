{
 "cells": [
  {
   "cell_type": "code",
   "execution_count": 81,
   "metadata": {},
   "outputs": [],
   "source": [
    "from pyspark.sql import SparkSession"
   ]
  },
  {
   "cell_type": "code",
   "execution_count": 82,
   "metadata": {},
   "outputs": [],
   "source": [
    "from pyspark.sql.functions import *"
   ]
  },
  {
   "cell_type": "code",
   "execution_count": 83,
   "metadata": {},
   "outputs": [],
   "source": [
    "from pyspark.ml.feature import StringIndexer, OneHotEncoder, VectorAssembler\n",
    "from pyspark.ml import Pipeline\n",
    "from pyspark.ml.classification import LogisticRegression\n",
    "from pyspark.ml.evaluation import BinaryClassificationEvaluator, MulticlassClassificationEvaluator"
   ]
  },
  {
   "cell_type": "code",
   "execution_count": 84,
   "metadata": {},
   "outputs": [],
   "source": [
    "spark = SparkSession.builder.appName(\"capstone\").config('hive.metastore.uris','thrift://ip-10-1-2-24.ap-south-1.compute.internal:9083/anabig11429').enableHiveSupport().getOrCreate()"
   ]
  },
  {
   "cell_type": "code",
   "execution_count": 85,
   "metadata": {},
   "outputs": [
    {
     "data": {
      "text/html": [
       "\n",
       "            <div>\n",
       "                <p><b>SparkSession - hive</b></p>\n",
       "                \n",
       "        <div>\n",
       "            <p><b>SparkContext</b></p>\n",
       "\n",
       "            <p><a href=\"http://ip-10-1-1-204.ap-south-1.compute.internal:43014\">Spark UI</a></p>\n",
       "\n",
       "            <dl>\n",
       "              <dt>Version</dt>\n",
       "                <dd><code>v2.4.0</code></dd>\n",
       "              <dt>Master</dt>\n",
       "                <dd><code>local[*]</code></dd>\n",
       "              <dt>AppName</dt>\n",
       "                <dd><code>capstone</code></dd>\n",
       "            </dl>\n",
       "        </div>\n",
       "        \n",
       "            </div>\n",
       "        "
      ],
      "text/plain": [
       "<pyspark.sql.session.SparkSession at 0x7fc8db654fd0>"
      ]
     },
     "execution_count": 85,
     "metadata": {},
     "output_type": "execute_result"
    }
   ],
   "source": [
    "spark"
   ]
  },
  {
   "cell_type": "code",
   "execution_count": 86,
   "metadata": {
    "scrolled": true
   },
   "outputs": [
    {
     "name": "stdout",
     "output_type": "stream",
     "text": [
      "+--------------+------------+-----------+\n",
      "|      database|   tableName|isTemporary|\n",
      "+--------------+------------+-----------+\n",
      "|tabish_project| departments|      false|\n",
      "|tabish_project|    dept_emp|      false|\n",
      "|tabish_project|dept_manager|      false|\n",
      "|tabish_project|        empl|      false|\n",
      "|tabish_project|   employees|      false|\n",
      "|tabish_project|    salaries|      false|\n",
      "|tabish_project|      titles|      false|\n",
      "|              | departments|       true|\n",
      "|              |    dept_emp|       true|\n",
      "|              |dept_manager|       true|\n",
      "|              |        emp1|       true|\n",
      "|              |    salaries|       true|\n",
      "|              |      titles|       true|\n",
      "+--------------+------------+-----------+\n",
      "\n"
     ]
    }
   ],
   "source": [
    "spark.sql(\"show tables from tabish_project\").show()"
   ]
  },
  {
   "cell_type": "code",
   "execution_count": 6,
   "metadata": {},
   "outputs": [],
   "source": [
    "# transforming employees table\n",
    "emp = spark.sql(\"select * from tabish_project.employees\")"
   ]
  },
  {
   "cell_type": "code",
   "execution_count": 7,
   "metadata": {},
   "outputs": [
    {
     "name": "stdout",
     "output_type": "stream",
     "text": [
      "+------+------------+----------+----------+---------+---+----------+--------------+-----------------------+-----+----------+\n",
      "|emp_no|emp_title_id|birth_date|first_name|last_name|sex| hire_date|no_of_projects|last_performance_rating|left_| last_date|\n",
      "+------+------------+----------+----------+---------+---+----------+--------------+-----------------------+-----+----------+\n",
      "|\n",
      "|\n",
      "|\n",
      "|\n",
      "|\n",
      "+------+------------+----------+----------+---------+---+----------+--------------+-----------------------+-----+----------+\n",
      "only showing top 5 rows\n",
      "\n"
     ]
    }
   ],
   "source": [
    "emp.show(5)"
   ]
  },
  {
   "cell_type": "code",
   "execution_count": 8,
   "metadata": {},
   "outputs": [
    {
     "name": "stdout",
     "output_type": "stream",
     "text": [
      "root\n",
      " |-- emp_no: integer (nullable = true)\n",
      " |-- emp_title_id: string (nullable = true)\n",
      " |-- birth_date: string (nullable = true)\n",
      " |-- first_name: string (nullable = true)\n",
      " |-- last_name: string (nullable = true)\n",
      " |-- sex: string (nullable = true)\n",
      " |-- hire_date: string (nullable = true)\n",
      " |-- no_of_projects: integer (nullable = true)\n",
      " |-- last_performance_rating: string (nullable = true)\n",
      " |-- left_: string (nullable = true)\n",
      " |-- last_date: string (nullable = true)\n",
      "\n"
     ]
    }
   ],
   "source": [
    "emp.printSchema()"
   ]
  },
  {
   "cell_type": "code",
   "execution_count": 11,
   "metadata": {},
   "outputs": [],
   "source": [
    "emp1 = emp.withColumn('birth_date', regexp_replace('birth_date', '-', '/')).withColumn(\"birth_date\", to_date(\"birth_date\", \"M/d/yyyy\"))"
   ]
  },
  {
   "cell_type": "code",
   "execution_count": 12,
   "metadata": {},
   "outputs": [],
   "source": [
    "emp1 = emp1.withColumn('hire_date', regexp_replace('hire_date', '-', '/')).withColumn(\"hire_date\", to_date(\"hire_date\", \"M/d/yyyy\"))"
   ]
  },
  {
   "cell_type": "code",
   "execution_count": 13,
   "metadata": {},
   "outputs": [],
   "source": [
    "emp1 = emp1.withColumn('last_date', regexp_replace('last_date', '-', '/')).withColumn(\"last_date\", to_date(\"last_date\", \"M/d/yyyy\"))"
   ]
  },
  {
   "cell_type": "code",
   "execution_count": 14,
   "metadata": {},
   "outputs": [
    {
     "name": "stdout",
     "output_type": "stream",
     "text": [
      "root\n",
      " |-- emp_no: integer (nullable = true)\n",
      " |-- emp_title_id: string (nullable = true)\n",
      " |-- birth_date: date (nullable = true)\n",
      " |-- first_name: string (nullable = true)\n",
      " |-- last_name: string (nullable = true)\n",
      " |-- sex: string (nullable = true)\n",
      " |-- hire_date: date (nullable = true)\n",
      " |-- no_of_projects: integer (nullable = true)\n",
      " |-- last_performance_rating: string (nullable = true)\n",
      " |-- left_: string (nullable = true)\n",
      " |-- last_date: date (nullable = true)\n",
      "\n"
     ]
    }
   ],
   "source": [
    "emp1.printSchema()"
   ]
  },
  {
   "cell_type": "code",
   "execution_count": 15,
   "metadata": {},
   "outputs": [
    {
     "name": "stdout",
     "output_type": "stream",
     "text": [
      "+------+------------+----------+----------+---------+---+----------+--------------+-----------------------+-----+----------+\n",
      "|emp_no|emp_title_id|birth_date|first_name|last_name|sex| hire_date|no_of_projects|last_performance_rating|left_| last_date|\n",
      "+------+------------+----------+----------+---------+---+----------+--------------+-----------------------+-----+----------+\n",
      "| 10001|       e0003|1953-09-02|    Georgi|  Facello|  M|1986-06-26|             9|                      C|    1|1994-07-30|\n",
      "| 10002|       s0001|1964-06-02|   Bezalel|   Simmel|  F|1985-11-21|             8|                      B|    0|      null|\n",
      "| 10003|       e0003|1959-12-03|     Parto|  Bamford|  M|1986-08-28|             1|                      C|    0|      null|\n",
      "| 10004|       e0003|1954-05-01| Chirstian|  Koblick|  M|1986-12-01|             5|                      A|    0|      null|\n",
      "| 10005|       s0001|1955-01-21|   Kyoichi| Maliniak|  M|1989-09-12|             6|                      A|    0|      null|\n",
      "+------+------------+----------+----------+---------+---+----------+--------------+-----------------------+-----+----------+\n",
      "only showing top 5 rows\n",
      "\n"
     ]
    }
   ],
   "source": [
    "emp1.show(5)"
   ]
  },
  {
   "cell_type": "code",
   "execution_count": 16,
   "metadata": {},
   "outputs": [],
   "source": [
    "# creating views for all hive tables\n",
    "emp1.createOrReplaceTempView('emp1')"
   ]
  },
  {
   "cell_type": "code",
   "execution_count": 17,
   "metadata": {},
   "outputs": [],
   "source": [
    "titles = spark.sql(\"select * from tabish_project.titles\")\n",
    "titles.createOrReplaceTempView('titles')"
   ]
  },
  {
   "cell_type": "code",
   "execution_count": 18,
   "metadata": {},
   "outputs": [],
   "source": [
    "departments = spark.sql(\"select * from tabish_project.departments\")\n",
    "departments.createOrReplaceTempView('departments')"
   ]
  },
  {
   "cell_type": "code",
   "execution_count": 19,
   "metadata": {},
   "outputs": [],
   "source": [
    "salaries = spark.sql(\"select * from tabish_project.salaries\")\n",
    "salaries.createOrReplaceTempView('salaries')"
   ]
  },
  {
   "cell_type": "code",
   "execution_count": 20,
   "metadata": {},
   "outputs": [],
   "source": [
    "dept_manager = spark.sql(\"select * from tabish_project.dept_manager\")\n",
    "dept_manager.createOrReplaceTempView('dept_manager')"
   ]
  },
  {
   "cell_type": "code",
   "execution_count": 21,
   "metadata": {},
   "outputs": [],
   "source": [
    "dept_emp = spark.sql(\"select * from tabish_project.dept_emp\")\n",
    "dept_emp.createOrReplaceTempView('dept_emp')"
   ]
  },
  {
   "cell_type": "code",
   "execution_count": 22,
   "metadata": {},
   "outputs": [
    {
     "name": "stdout",
     "output_type": "stream",
     "text": [
      "+------+----------+---------+---+------+\n",
      "|emp_no|first_name|last_name|sex|salary|\n",
      "+------+----------+---------+---+------+\n",
      "| 10001|    Georgi|  Facello|  M| 60117|\n",
      "| 10002|   Bezalel|   Simmel|  F| 65828|\n",
      "| 10003|     Parto|  Bamford|  M| 40006|\n",
      "| 10004| Chirstian|  Koblick|  M| 40054|\n",
      "| 10005|   Kyoichi| Maliniak|  M| 78228|\n",
      "+------+----------+---------+---+------+\n",
      "only showing top 5 rows\n",
      "\n"
     ]
    }
   ],
   "source": [
    "#Performing EDA\n",
    "#1 A list showing employee number, last name, first name, sex, and salary for each employee.\n",
    "spark.sql(\"select t1.emp_no, t1.first_name, t1.last_name, t1.sex, t2.salary from emp1 t1 join salaries t2 on t1.emp_no=t2.emp_no\").show(5)"
   ]
  },
  {
   "cell_type": "code",
   "execution_count": 23,
   "metadata": {},
   "outputs": [
    {
     "name": "stdout",
     "output_type": "stream",
     "text": [
      "+----------+---------+----------+\n",
      "|first_name|last_name| hire_date|\n",
      "+----------+---------+----------+\n",
      "|    Georgi|  Facello|1986-06-26|\n",
      "|     Parto|  Bamford|1986-08-28|\n",
      "| Chirstian|  Koblick|1986-12-01|\n",
      "|    Sanjiv| Zschoche|1986-02-04|\n",
      "|      Kwee| Schusler|1986-02-26|\n",
      "+----------+---------+----------+\n",
      "\n"
     ]
    }
   ],
   "source": [
    "#2 A list showing first name, last name, and hire date for employees who were hired in 1986.\n",
    "spark.sql(\"select first_name, last_name, hire_date from emp1 where year(hire_date) = '1986' limit 5\").show()"
   ]
  },
  {
   "cell_type": "code",
   "execution_count": 24,
   "metadata": {},
   "outputs": [
    {
     "name": "stdout",
     "output_type": "stream",
     "text": [
      "+-------+--------------------+------+-----------+------------+\n",
      "|dept_no|           dept_name|emp_no| first_name|   last_name|\n",
      "+-------+--------------------+------+-----------+------------+\n",
      "|   d001|         \"Marketing\"|110039|   Vishwani|    Minakawa|\n",
      "|   d001|         \"Marketing\"|110022|  Margareta|  Markovitch|\n",
      "|   d002|           \"Finance\"|110114|      Isamu|  Legleitner|\n",
      "|   d002|           \"Finance\"|110085|       Ebru|       Alpin|\n",
      "|   d003|   \"Human Resources\"|110228|    Karsten|     Sigstam|\n",
      "|   d003|   \"Human Resources\"|110183|    Shirish|Ossenbruggen|\n",
      "|   d004|        \"Production\"|110420|      Oscar|    Ghazalie|\n",
      "|   d004|        \"Production\"|110386|       Shem|      Kieras|\n",
      "|   d004|        \"Production\"|110344|     Rosine|       Cools|\n",
      "|   d004|        \"Production\"|110303|  Krassimir|     Wegerle|\n",
      "|   d005|       \"development\"|110567|       Leon|    DasSarma|\n",
      "|   d005|       \"development\"|110511|   DeForest|    Hagimont|\n",
      "|   d006|\"Quality Management\"|110854|       Dung|       Pesch|\n",
      "|   d006|\"Quality Management\"|110800|     Sanjoy|     Quadeer|\n",
      "|   d006|\"Quality Management\"|110765|     Rutger|     Hofmeyr|\n",
      "|   d006|\"Quality Management\"|110725|  Peternela|     Onuegbe|\n",
      "|   d007|             \"Sales\"|111133|      Hauke|       Zhang|\n",
      "|   d007|             \"Sales\"|111035|Przemyslawa|   Kaelbling|\n",
      "|   d008|          \"Research\"|111534|     Hilary|      Kambil|\n",
      "|   d008|          \"Research\"|111400|       Arie|     Staelin|\n",
      "|   d009|  \"Customer Service\"|111939|    Yuchang|     Weedman|\n",
      "|   d009|  \"Customer Service\"|111877|    Xiaobin|    Spinelli|\n",
      "|   d009|  \"Customer Service\"|111784|      Marjo|  Giarratana|\n",
      "|   d009|  \"Customer Service\"|111692|      Tonny| Butterworth|\n",
      "+-------+--------------------+------+-----------+------------+\n",
      "\n"
     ]
    }
   ],
   "source": [
    "#3 A list showing the manager of each department.\n",
    "spark.sql(\"select t1.dept_no, t1.dept_name, t3.emp_no, t3.first_name, t3.last_name from departments t1 left join dept_manager t2 on t1.dept_no=t2.dept_no left join employees t3 on t2.emp_no=t3.emp_no\").show(24)"
   ]
  },
  {
   "cell_type": "code",
   "execution_count": 25,
   "metadata": {},
   "outputs": [
    {
     "name": "stdout",
     "output_type": "stream",
     "text": [
      "+------+----------+---------+-----------------+\n",
      "|emp_no|first_name|last_name|        dept_name|\n",
      "+------+----------+---------+-----------------+\n",
      "| 10001|    Georgi|  Facello|    \"development\"|\n",
      "| 10002|   Bezalel|   Simmel|          \"Sales\"|\n",
      "| 10003|     Parto|  Bamford|     \"Production\"|\n",
      "| 10004| Chirstian|  Koblick|     \"Production\"|\n",
      "| 10005|   Kyoichi| Maliniak|\"Human Resources\"|\n",
      "+------+----------+---------+-----------------+\n",
      "only showing top 5 rows\n",
      "\n"
     ]
    }
   ],
   "source": [
    "#4 A list showing the department of each employee.\n",
    "spark.sql(\"select t1.emp_no, t1.first_name, t1.last_name, t3.dept_name from emp1 t1 join dept_emp t2 on t1.emp_no=t2.emp_no join departments t3 on t2.dept_no=t3.dept_no\").show(5)"
   ]
  },
  {
   "cell_type": "code",
   "execution_count": 26,
   "metadata": {},
   "outputs": [
    {
     "name": "stdout",
     "output_type": "stream",
     "text": [
      "+----------+----------+---+\n",
      "|first_name| last_name|sex|\n",
      "+----------+----------+---+\n",
      "|  Hercules|Benzmuller|  M|\n",
      "|  Hercules|   Brendel|  F|\n",
      "|  Hercules|Baranowski|  M|\n",
      "|  Hercules|  Barreiro|  M|\n",
      "|  Hercules|      Baer|  M|\n",
      "+----------+----------+---+\n",
      "only showing top 5 rows\n",
      "\n"
     ]
    }
   ],
   "source": [
    "#5 A list showing first name, last name, and sex for employees whose first name is \"Hercules\" and last names begin with \"B\".\n",
    "spark.sql(\"select first_name, last_name, sex from emp1 where first_name = 'Hercules' and last_name like 'B%'\").show(5)"
   ]
  },
  {
   "cell_type": "code",
   "execution_count": 27,
   "metadata": {},
   "outputs": [
    {
     "name": "stdout",
     "output_type": "stream",
     "text": [
      "+------+----------+-----------+---------+\n",
      "|emp_no|first_name|  last_name|dept_name|\n",
      "+------+----------+-----------+---------+\n",
      "| 10002|   Bezalel|     Simmel|  \"Sales\"|\n",
      "| 10016|  Kazuhito|Cappelletti|  \"Sales\"|\n",
      "| 10034|     Bader|       Swan|  \"Sales\"|\n",
      "| 10041|       Uri|     Lenart|  \"Sales\"|\n",
      "| 10050|   Yinghua|     Dredge|  \"Sales\"|\n",
      "+------+----------+-----------+---------+\n",
      "only showing top 5 rows\n",
      "\n"
     ]
    }
   ],
   "source": [
    "#6 A list showing all employees in the Sales department.\n",
    "spark.sql(\"\"\"select t1.emp_no, t1.first_name, t1.last_name, t3.dept_name from emp1 t1 join dept_emp t2 on t1.emp_no=t2.emp_no join departments t3 on t2.dept_no=t3.dept_no where t3.dept_name='\"Sales\"'\"\"\").show(5)"
   ]
  },
  {
   "cell_type": "code",
   "execution_count": 28,
   "metadata": {},
   "outputs": [
    {
     "name": "stdout",
     "output_type": "stream",
     "text": [
      "+------+----------+---------+-------------+\n",
      "|emp_no|first_name|last_name|    dept_name|\n",
      "+------+----------+---------+-------------+\n",
      "| 10001|    Georgi|  Facello|\"development\"|\n",
      "| 10002|   Bezalel|   Simmel|      \"Sales\"|\n",
      "| 10006|    Anneke|  Preusig|\"development\"|\n",
      "| 10008|    Saniya| Kalloufi|\"development\"|\n",
      "| 10012|  Patricio|Bridgland|\"development\"|\n",
      "+------+----------+---------+-------------+\n",
      "only showing top 5 rows\n",
      "\n"
     ]
    }
   ],
   "source": [
    "#7 A list showing all employees in the Sales and Development department.\n",
    "spark.sql(\"\"\"select t1.emp_no, t1.first_name, t1.last_name, t3.dept_name from emp1 t1 join dept_emp t2 on t1.emp_no=t2.emp_no join departments t3 on t2.dept_no=t3.dept_no where t3.dept_name = '\"Sales\"' or t3.dept_name = '\"development\"'\"\"\").show(5)\n"
   ]
  },
  {
   "cell_type": "code",
   "execution_count": 29,
   "metadata": {},
   "outputs": [
    {
     "name": "stdout",
     "output_type": "stream",
     "text": [
      "+---------+----+\n",
      "|last_name|freq|\n",
      "+---------+----+\n",
      "|     Baba| 226|\n",
      "|   Gelosh| 223|\n",
      "|    Coorg| 223|\n",
      "|  Sudbeck| 222|\n",
      "|   Farris| 222|\n",
      "+---------+----+\n",
      "only showing top 5 rows\n",
      "\n"
     ]
    }
   ],
   "source": [
    "#8 A list showing the frequency count of employee last names, in descending order.\n",
    "spark.sql(\"select last_name, count(last_name) as freq from emp1 group by last_name order by freq desc\").show(5)"
   ]
  },
  {
   "cell_type": "code",
   "execution_count": 30,
   "metadata": {},
   "outputs": [],
   "source": [
    "#9 Histogram to show the salary distribution among the employees\n",
    "salary_dist = spark.sql(\"select t1.emp_no, t2.salary from emp1 t1 join salaries t2 on t1.emp_no=t2.emp_no\")"
   ]
  },
  {
   "cell_type": "code",
   "execution_count": 31,
   "metadata": {},
   "outputs": [],
   "source": [
    "sal = salary_dist.toPandas()"
   ]
  },
  {
   "cell_type": "code",
   "execution_count": 32,
   "metadata": {},
   "outputs": [
    {
     "data": {
      "text/html": [
       "<div>\n",
       "<style scoped>\n",
       "    .dataframe tbody tr th:only-of-type {\n",
       "        vertical-align: middle;\n",
       "    }\n",
       "\n",
       "    .dataframe tbody tr th {\n",
       "        vertical-align: top;\n",
       "    }\n",
       "\n",
       "    .dataframe thead th {\n",
       "        text-align: right;\n",
       "    }\n",
       "</style>\n",
       "<table border=\"1\" class=\"dataframe\">\n",
       "  <thead>\n",
       "    <tr style=\"text-align: right;\">\n",
       "      <th></th>\n",
       "      <th>emp_no</th>\n",
       "      <th>salary</th>\n",
       "    </tr>\n",
       "  </thead>\n",
       "  <tbody>\n",
       "    <tr>\n",
       "      <th>0</th>\n",
       "      <td>10001</td>\n",
       "      <td>60117</td>\n",
       "    </tr>\n",
       "    <tr>\n",
       "      <th>1</th>\n",
       "      <td>10002</td>\n",
       "      <td>65828</td>\n",
       "    </tr>\n",
       "    <tr>\n",
       "      <th>2</th>\n",
       "      <td>10003</td>\n",
       "      <td>40006</td>\n",
       "    </tr>\n",
       "    <tr>\n",
       "      <th>3</th>\n",
       "      <td>10004</td>\n",
       "      <td>40054</td>\n",
       "    </tr>\n",
       "    <tr>\n",
       "      <th>4</th>\n",
       "      <td>10005</td>\n",
       "      <td>78228</td>\n",
       "    </tr>\n",
       "  </tbody>\n",
       "</table>\n",
       "</div>"
      ],
      "text/plain": [
       "   emp_no  salary\n",
       "0   10001   60117\n",
       "1   10002   65828\n",
       "2   10003   40006\n",
       "3   10004   40054\n",
       "4   10005   78228"
      ]
     },
     "execution_count": 32,
     "metadata": {},
     "output_type": "execute_result"
    }
   ],
   "source": [
    "sal.head(5)"
   ]
  },
  {
   "cell_type": "code",
   "execution_count": 33,
   "metadata": {},
   "outputs": [
    {
     "data": {
      "text/plain": [
       "array([[<matplotlib.axes._subplots.AxesSubplot object at 0x7fc8d8e9e810>]],\n",
       "      dtype=object)"
      ]
     },
     "execution_count": 33,
     "metadata": {},
     "output_type": "execute_result"
    },
    {
     "data": {
      "image/png": "[encoded data removed]",
      "text/plain": [
       "<Figure size 576x288 with 1 Axes>"
      ]
     },
     "metadata": {
      "needs_background": "light"
     },
     "output_type": "display_data"
    }
   ],
   "source": [
    "sal.hist(column = 'salary', bins = 20, figsize = (8,4))"
   ]
  },
  {
   "cell_type": "code",
   "execution_count": 34,
   "metadata": {},
   "outputs": [],
   "source": [
    "#10  Bar graph to show the Average salary per title (designation)\n",
    "avg_sal = spark.sql(\"select t3.title, round(avg(t1.salary),0) as avg_salary from salaries t1 join emp1 t2 on t1.emp_no=t2.emp_no join titles t3 on t2.emp_title_id=t3.title_id group by t3.title\")"
   ]
  },
  {
   "cell_type": "code",
   "execution_count": 35,
   "metadata": {},
   "outputs": [],
   "source": [
    "a_sal = avg_sal.toPandas()"
   ]
  },
  {
   "cell_type": "code",
   "execution_count": 36,
   "metadata": {},
   "outputs": [
    {
     "data": {
      "text/html": [
       "<div>\n",
       "<style scoped>\n",
       "    .dataframe tbody tr th:only-of-type {\n",
       "        vertical-align: middle;\n",
       "    }\n",
       "\n",
       "    .dataframe tbody tr th {\n",
       "        vertical-align: top;\n",
       "    }\n",
       "\n",
       "    .dataframe thead th {\n",
       "        text-align: right;\n",
       "    }\n",
       "</style>\n",
       "<table border=\"1\" class=\"dataframe\">\n",
       "  <thead>\n",
       "    <tr style=\"text-align: right;\">\n",
       "      <th></th>\n",
       "      <th>title</th>\n",
       "      <th>avg_salary</th>\n",
       "    </tr>\n",
       "  </thead>\n",
       "  <tbody>\n",
       "    <tr>\n",
       "      <th>0</th>\n",
       "      <td>Staff</td>\n",
       "      <td>58465.0</td>\n",
       "    </tr>\n",
       "    <tr>\n",
       "      <th>1</th>\n",
       "      <td>Assistant Engineer</td>\n",
       "      <td>48564.0</td>\n",
       "    </tr>\n",
       "    <tr>\n",
       "      <th>2</th>\n",
       "      <td>Senior Staff</td>\n",
       "      <td>58550.0</td>\n",
       "    </tr>\n",
       "    <tr>\n",
       "      <th>3</th>\n",
       "      <td>Senior Engineer</td>\n",
       "      <td>48507.0</td>\n",
       "    </tr>\n",
       "    <tr>\n",
       "      <th>4</th>\n",
       "      <td>Engineer</td>\n",
       "      <td>48535.0</td>\n",
       "    </tr>\n",
       "  </tbody>\n",
       "</table>\n",
       "</div>"
      ],
      "text/plain": [
       "                title  avg_salary\n",
       "0               Staff     58465.0\n",
       "1  Assistant Engineer     48564.0\n",
       "2        Senior Staff     58550.0\n",
       "3     Senior Engineer     48507.0\n",
       "4            Engineer     48535.0"
      ]
     },
     "execution_count": 36,
     "metadata": {},
     "output_type": "execute_result"
    }
   ],
   "source": [
    "a_sal.head(5)"
   ]
  },
  {
   "cell_type": "code",
   "execution_count": 37,
   "metadata": {},
   "outputs": [
    {
     "data": {
      "text/plain": [
       "<matplotlib.axes._subplots.AxesSubplot at 0x7fc8d8da5850>"
      ]
     },
     "execution_count": 37,
     "metadata": {},
     "output_type": "execute_result"
    },
    {
     "data": {
      "image/png": "[encoded data removed]",
      "text/plain": [
       "<Figure size 432x288 with 1 Axes>"
      ]
     },
     "metadata": {
      "needs_background": "light"
     },
     "output_type": "display_data"
    }
   ],
   "source": [
    "a_sal.plot.bar(x='title', y='avg_salary', color=['green','yellow','red','purple','orange','blue','pink'])"
   ]
  },
  {
   "cell_type": "code",
   "execution_count": 38,
   "metadata": {},
   "outputs": [
    {
     "name": "stdout",
     "output_type": "stream",
     "text": [
      "+------+------------+----------+----------+---------+---+----------+--------------+-----------------------+-----+----------+\n",
      "|emp_no|emp_title_id|birth_date|first_name|last_name|sex| hire_date|no_of_projects|last_performance_rating|left_| last_date|\n",
      "+------+------------+----------+----------+---------+---+----------+--------------+-----------------------+-----+----------+\n",
      "| 10001|       e0003|1953-09-02|    Georgi|  Facello|  M|1986-06-26|             9|                      C|    1|1994-07-30|\n",
      "| 10002|       s0001|1964-06-02|   Bezalel|   Simmel|  F|1985-11-21|             8|                      B|    0|      null|\n",
      "+------+------------+----------+----------+---------+---+----------+--------------+-----------------------+-----+----------+\n",
      "only showing top 2 rows\n",
      "\n"
     ]
    }
   ],
   "source": [
    "#11 Calculate employee tenure & show the tenure distribution among the employees.\n",
    "emp1.show(2)"
   ]
  },
  {
   "cell_type": "code",
   "execution_count": 39,
   "metadata": {},
   "outputs": [
    {
     "name": "stdout",
     "output_type": "stream",
     "text": [
      "+--------------+\n",
      "|max(hire_date)|\n",
      "+--------------+\n",
      "|    2000-01-28|\n",
      "+--------------+\n",
      "\n"
     ]
    }
   ],
   "source": [
    "spark.sql(\"select max(hire_date) from emp1\").show()"
   ]
  },
  {
   "cell_type": "code",
   "execution_count": 40,
   "metadata": {},
   "outputs": [
    {
     "name": "stdout",
     "output_type": "stream",
     "text": [
      "+------+------+\n",
      "|emp_no|tenure|\n",
      "+------+------+\n",
      "| 10001|     8|\n",
      "| 10002|    14|\n",
      "| 10003|    13|\n",
      "| 10004|    13|\n",
      "| 10005|    10|\n",
      "+------+------+\n",
      "only showing top 5 rows\n",
      "\n"
     ]
    }
   ],
   "source": [
    "spark.sql(\"select emp_no, cast((datediff(lastdate, hire_date))/365.4 as int) as tenure from (select *, if(last_date is null, to_date('2000-01-28'), last_date) as lastdate from emp1)\").show(5)"
   ]
  },
  {
   "cell_type": "code",
   "execution_count": 41,
   "metadata": {},
   "outputs": [],
   "source": [
    "tenure = spark.sql(\"select emp_no, cast((datediff(lastdate, hire_date))/365.4 as int) as tenure from (select *, if(last_date is null, to_date('2000-01-28'), last_date) as lastdate from emp1)\")"
   ]
  },
  {
   "cell_type": "code",
   "execution_count": 42,
   "metadata": {},
   "outputs": [],
   "source": [
    "ten = tenure.toPandas()"
   ]
  },
  {
   "cell_type": "code",
   "execution_count": 43,
   "metadata": {},
   "outputs": [
    {
     "data": {
      "text/html": [
       "<div>\n",
       "<style scoped>\n",
       "    .dataframe tbody tr th:only-of-type {\n",
       "        vertical-align: middle;\n",
       "    }\n",
       "\n",
       "    .dataframe tbody tr th {\n",
       "        vertical-align: top;\n",
       "    }\n",
       "\n",
       "    .dataframe thead th {\n",
       "        text-align: right;\n",
       "    }\n",
       "</style>\n",
       "<table border=\"1\" class=\"dataframe\">\n",
       "  <thead>\n",
       "    <tr style=\"text-align: right;\">\n",
       "      <th></th>\n",
       "      <th>emp_no</th>\n",
       "      <th>tenure</th>\n",
       "    </tr>\n",
       "  </thead>\n",
       "  <tbody>\n",
       "    <tr>\n",
       "      <th>0</th>\n",
       "      <td>10001</td>\n",
       "      <td>8</td>\n",
       "    </tr>\n",
       "    <tr>\n",
       "      <th>1</th>\n",
       "      <td>10002</td>\n",
       "      <td>14</td>\n",
       "    </tr>\n",
       "  </tbody>\n",
       "</table>\n",
       "</div>"
      ],
      "text/plain": [
       "   emp_no  tenure\n",
       "0   10001       8\n",
       "1   10002      14"
      ]
     },
     "execution_count": 43,
     "metadata": {},
     "output_type": "execute_result"
    }
   ],
   "source": [
    "ten.head(2)"
   ]
  },
  {
   "cell_type": "code",
   "execution_count": 44,
   "metadata": {},
   "outputs": [
    {
     "data": {
      "text/plain": [
       "array([[<matplotlib.axes._subplots.AxesSubplot object at 0x7fc8d3570850>]],\n",
       "      dtype=object)"
      ]
     },
     "execution_count": 44,
     "metadata": {},
     "output_type": "execute_result"
    },
    {
     "data": {
      "image/png": "[encoded data removed]",
      "text/plain": [
       "<Figure size 576x288 with 1 Axes>"
      ]
     },
     "metadata": {
      "needs_background": "light"
     },
     "output_type": "display_data"
    }
   ],
   "source": [
    "ten.hist(column = 'tenure', bins = 30, figsize = (8,4))"
   ]
  },
  {
   "cell_type": "code",
   "execution_count": 45,
   "metadata": {},
   "outputs": [
    {
     "name": "stdout",
     "output_type": "stream",
     "text": [
      "+--------------+-------------+\n",
      "|no_of_projects|count(emp_no)|\n",
      "+--------------+-------------+\n",
      "|             9|        30140|\n",
      "|             6|        30080|\n",
      "|            10|        30046|\n",
      "|             3|        30026|\n",
      "|             5|        30025|\n",
      "|             8|        29996|\n",
      "|             7|        29983|\n",
      "|             1|        29920|\n",
      "|             2|        29912|\n",
      "|             4|        29896|\n",
      "+--------------+-------------+\n",
      "\n"
     ]
    }
   ],
   "source": [
    "# 12 count of employees based on no of projects\n",
    "spark.sql(\"select no_of_projects, count(emp_no) from emp1 group by no_of_projects order by count(emp_no) desc\").show()"
   ]
  },
  {
   "cell_type": "code",
   "execution_count": 46,
   "metadata": {},
   "outputs": [
    {
     "name": "stdout",
     "output_type": "stream",
     "text": [
      "+-----------------------+-------------+\n",
      "|last_performance_rating|count(emp_no)|\n",
      "+-----------------------+-------------+\n",
      "|                      B|       107154|\n",
      "|                      A|        95919|\n",
      "|                      C|        71304|\n",
      "|                    PIP|        15105|\n",
      "|                      S|        10542|\n",
      "+-----------------------+-------------+\n",
      "\n"
     ]
    }
   ],
   "source": [
    "# 13 count of employees based on rating\n",
    "spark.sql(\"select last_performance_rating, count(emp_no) from emp1 group by last_performance_rating order by count(emp_no) desc\").show()"
   ]
  },
  {
   "cell_type": "code",
   "execution_count": 47,
   "metadata": {},
   "outputs": [
    {
     "name": "stdout",
     "output_type": "stream",
     "text": [
      "+--------------------+-------------+\n",
      "|           dept_name|count(emp_no)|\n",
      "+--------------------+-------------+\n",
      "|\"Quality Management\"|        20117|\n",
      "|        \"Production\"|        73485|\n",
      "|       \"development\"|        85707|\n",
      "|          \"Research\"|        21126|\n",
      "|             \"Sales\"|        52245|\n",
      "|           \"Finance\"|        17346|\n",
      "|   \"Human Resources\"|        17786|\n",
      "|         \"Marketing\"|        20211|\n",
      "|  \"Customer Service\"|        23580|\n",
      "+--------------------+-------------+\n",
      "\n"
     ]
    }
   ],
   "source": [
    "# 14 count of employees based on departments\n",
    "spark.sql(\"select t1.dept_name, count(t2.emp_no) from departments t1 join dept_emp t2 on t1.dept_no=t2.dept_no group by t1.dept_name \").show()"
   ]
  },
  {
   "cell_type": "code",
   "execution_count": 48,
   "metadata": {},
   "outputs": [
    {
     "name": "stdout",
     "output_type": "stream",
     "text": [
      "+--------------------+-----------+\n",
      "|           dept_name|sum(salary)|\n",
      "+--------------------+-----------+\n",
      "|       \"development\"| 4173702462|\n",
      "|             \"Sales\"| 3648379483|\n",
      "|        \"Production\"| 3583161729|\n",
      "|         \"Marketing\"| 1234809182|\n",
      "|  \"Customer Service\"| 1131808649|\n",
      "|           \"Finance\"| 1032668378|\n",
      "|          \"Research\"| 1032009108|\n",
      "|\"Quality Management\"|  934555467|\n",
      "|   \"Human Resources\"|  794654412|\n",
      "+--------------------+-----------+\n",
      "\n"
     ]
    }
   ],
   "source": [
    "# 15 total salary expenditure till date based on departments\n",
    "spark.sql(\"select t1.dept_name, sum(t3.salary) from departments t1 join dept_emp t2 on t1.dept_no=t2.dept_no join salaries t3 on t2.emp_no=t3.emp_no group by t1.dept_name order by sum(t3.salary) desc\").show()"
   ]
  },
  {
   "cell_type": "code",
   "execution_count": 49,
   "metadata": {},
   "outputs": [
    {
     "name": "stdout",
     "output_type": "stream",
     "text": [
      "+------+---+\n",
      "|emp_no|age|\n",
      "+------+---+\n",
      "| 10001| 47|\n",
      "| 10002| 36|\n",
      "| 10003| 41|\n",
      "| 10004| 46|\n",
      "| 10005| 45|\n",
      "+------+---+\n",
      "only showing top 5 rows\n",
      "\n"
     ]
    }
   ],
   "source": [
    "# 16 age distribution among the employees currently working\n",
    "spark.sql(\"select emp_no, cast(datediff(to_date('2000-12-31'), birth_date)/365.4 as int) as age from emp1\").show(5)"
   ]
  },
  {
   "cell_type": "code",
   "execution_count": 50,
   "metadata": {},
   "outputs": [],
   "source": [
    "age = spark.sql(\"select emp_no, cast(datediff(to_date('2000-12-31'), birth_date)/365.4 as int) as age from emp1\")"
   ]
  },
  {
   "cell_type": "code",
   "execution_count": 51,
   "metadata": {},
   "outputs": [],
   "source": [
    "a = age.toPandas()"
   ]
  },
  {
   "cell_type": "code",
   "execution_count": 52,
   "metadata": {},
   "outputs": [
    {
     "data": {
      "text/html": [
       "<div>\n",
       "<style scoped>\n",
       "    .dataframe tbody tr th:only-of-type {\n",
       "        vertical-align: middle;\n",
       "    }\n",
       "\n",
       "    .dataframe tbody tr th {\n",
       "        vertical-align: top;\n",
       "    }\n",
       "\n",
       "    .dataframe thead th {\n",
       "        text-align: right;\n",
       "    }\n",
       "</style>\n",
       "<table border=\"1\" class=\"dataframe\">\n",
       "  <thead>\n",
       "    <tr style=\"text-align: right;\">\n",
       "      <th></th>\n",
       "      <th>emp_no</th>\n",
       "      <th>age</th>\n",
       "    </tr>\n",
       "  </thead>\n",
       "  <tbody>\n",
       "    <tr>\n",
       "      <th>0</th>\n",
       "      <td>10001</td>\n",
       "      <td>47</td>\n",
       "    </tr>\n",
       "    <tr>\n",
       "      <th>1</th>\n",
       "      <td>10002</td>\n",
       "      <td>36</td>\n",
       "    </tr>\n",
       "  </tbody>\n",
       "</table>\n",
       "</div>"
      ],
      "text/plain": [
       "   emp_no  age\n",
       "0   10001   47\n",
       "1   10002   36"
      ]
     },
     "execution_count": 52,
     "metadata": {},
     "output_type": "execute_result"
    }
   ],
   "source": [
    "a.head(2)"
   ]
  },
  {
   "cell_type": "code",
   "execution_count": 53,
   "metadata": {},
   "outputs": [
    {
     "data": {
      "text/plain": [
       "array([[<matplotlib.axes._subplots.AxesSubplot object at 0x7fc8d35d23d0>]],\n",
       "      dtype=object)"
      ]
     },
     "execution_count": 53,
     "metadata": {},
     "output_type": "execute_result"
    },
    {
     "data": {
      "image/png": "[encoded data removed]",
      "text/plain": [
       "<Figure size 432x288 with 1 Axes>"
      ]
     },
     "metadata": {
      "needs_background": "light"
     },
     "output_type": "display_data"
    }
   ],
   "source": [
    "a.hist(column = 'age', bins = 40)"
   ]
  },
  {
   "cell_type": "code",
   "execution_count": 54,
   "metadata": {},
   "outputs": [],
   "source": [
    "### ML model"
   ]
  },
  {
   "cell_type": "code",
   "execution_count": 55,
   "metadata": {},
   "outputs": [],
   "source": [
    "# step 1: Combining the tables"
   ]
  },
  {
   "cell_type": "code",
   "execution_count": 87,
   "metadata": {},
   "outputs": [],
   "source": [
    "data = spark.sql(\"select t2.*, t1.title, t3.salary, t5.dept_name, cast(datediff(to_date('2000-12-31'), t2.birth_date)/365.4 as int) as age from titles t1 join emp1 t2 on t1.title_id=t2.emp_title_id join salaries t3 on t2.emp_no=t3.emp_no join dept_emp t4 on t3.emp_no=t4.emp_no join departments t5 on t4.dept_no=t5.dept_no\")"
   ]
  },
  {
   "cell_type": "code",
   "execution_count": 88,
   "metadata": {},
   "outputs": [],
   "source": [
    "#step 2: creating new column for left_ as integer data type\n",
    "data = data.withColumn('label', data.left_.cast('int'))"
   ]
  },
  {
   "cell_type": "code",
   "execution_count": 58,
   "metadata": {},
   "outputs": [
    {
     "name": "stdout",
     "output_type": "stream",
     "text": [
      "+------+------------+----------+----------+---------+---+----------+--------------+-----------------------+-----+----------+---------------+------+-----------------+---+-----+\n",
      "|emp_no|emp_title_id|birth_date|first_name|last_name|sex| hire_date|no_of_projects|last_performance_rating|left_| last_date|          title|salary|        dept_name|age|label|\n",
      "+------+------------+----------+----------+---------+---+----------+--------------+-----------------------+-----+----------+---------------+------+-----------------+---+-----+\n",
      "| 10001|       e0003|1953-09-02|    Georgi|  Facello|  M|1986-06-26|             9|                      C|    1|1994-07-30|Senior Engineer| 60117|    \"development\"| 47|    1|\n",
      "| 10002|       s0001|1964-06-02|   Bezalel|   Simmel|  F|1985-11-21|             8|                      B|    0|      null|          Staff| 65828|          \"Sales\"| 36|    0|\n",
      "| 10003|       e0003|1959-12-03|     Parto|  Bamford|  M|1986-08-28|             1|                      C|    0|      null|Senior Engineer| 40006|     \"Production\"| 41|    0|\n",
      "| 10004|       e0003|1954-05-01| Chirstian|  Koblick|  M|1986-12-01|             5|                      A|    0|      null|Senior Engineer| 40054|     \"Production\"| 46|    0|\n",
      "| 10005|       s0001|1955-01-21|   Kyoichi| Maliniak|  M|1989-09-12|             6|                      A|    0|      null|          Staff| 78228|\"Human Resources\"| 45|    0|\n",
      "+------+------------+----------+----------+---------+---+----------+--------------+-----------------------+-----+----------+---------------+------+-----------------+---+-----+\n",
      "only showing top 5 rows\n",
      "\n"
     ]
    }
   ],
   "source": [
    "data.show(5)"
   ]
  },
  {
   "cell_type": "code",
   "execution_count": 59,
   "metadata": {},
   "outputs": [],
   "source": [
    "#step 3: feature selection\n",
    "continuous_features = ['no_of_projects','salary','age']\n",
    "categorical_features = ['sex','last_performance_rating','title','dept_name']"
   ]
  },
  {
   "cell_type": "code",
   "execution_count": 60,
   "metadata": {},
   "outputs": [],
   "source": [
    "#step 4: Pipeline stages\n",
    "#ML model pipeline"
   ]
  },
  {
   "cell_type": "code",
   "execution_count": 64,
   "metadata": {},
   "outputs": [],
   "source": [
    "## Create indexers for the categorical features\n",
    "stage_1 = StringIndexer(inputCol='sex', outputCol='sex_idx')\n",
    "stage_2 = StringIndexer(inputCol='last_performance_rating', outputCol='last_performance_rating_idx')\n",
    "stage_3 = StringIndexer(inputCol='title', outputCol='title_idx')\n",
    "stage_4 = StringIndexer(inputCol='dept_name', outputCol='dept_name_idx')\n",
    "\n",
    "## encode the categorical features\n",
    "stage_5 = OneHotEncoder(inputCol='sex_idx', outputCol='sex_ohe')\n",
    "stage_6 = OneHotEncoder(inputCol='last_performance_rating_idx', outputCol='last_performance_rating_ohe')\n",
    "stage_7 = OneHotEncoder(inputCol='title_idx', outputCol='title_ohe')\n",
    "stage_8 = OneHotEncoder(inputCol='dept_name_idx', outputCol='dept_name_ohe')\n",
    "\n",
    "## Create vectors for all features categorical and continuous\n",
    "stage_9 = VectorAssembler(inputCols=['sex_ohe','last_performance_rating_ohe','title_ohe','dept_name_ohe'] + continuous_features, outputCol=\"features\")\n",
    "\n",
    "## logistic regression model                          \n",
    "stage_10 = LogisticRegression(featuresCol='features',labelCol='label')"
   ]
  },
  {
   "cell_type": "code",
   "execution_count": 65,
   "metadata": {},
   "outputs": [],
   "source": [
    "## Create the pipeline with sequence of activities\n",
    "pipeline = Pipeline( stages= [stage_1, stage_2, stage_3, stage_4, stage_5, stage_6, stage_7, stage_8, stage_9, stage_10])"
   ]
  },
  {
   "cell_type": "code",
   "execution_count": 63,
   "metadata": {},
   "outputs": [],
   "source": [
    "#step 5: spliting the data\n",
    "train_df, test_df = data.randomSplit( [0.7, 0.3], seed = 42 )"
   ]
  },
  {
   "cell_type": "code",
   "execution_count": 66,
   "metadata": {},
   "outputs": [],
   "source": [
    "#step 6: fit and transform the pipeline with data\n",
    "sample_data_train = pipeline.fit(train_df).transform(train_df)"
   ]
  },
  {
   "cell_type": "code",
   "execution_count": 89,
   "metadata": {},
   "outputs": [
    {
     "name": "stdout",
     "output_type": "stream",
     "text": [
      "+--------------------+-----+--------------------+--------------------+----------+\n",
      "|            features|label|       rawPrediction|         probability|prediction|\n",
      "+--------------------+-----+--------------------+--------------------+----------+\n",
      "|(22,[0,3,6,11,19,...|    1|[2.21249934230875...|[0.90136635398692...|       0.0|\n",
      "|(22,[0,2,5,18,19,...|    0|[2.21730026979305...|[0.90179235898404...|       0.0|\n",
      "|(22,[1,6,11,19,20...|    0|[2.21455103014912...|[0.90154860924950...|       0.0|\n",
      "|(22,[1,5,15,19,20...|    1|[2.23555923436849...|[0.90339760466131...|       0.0|\n",
      "|(22,[0,3,10,11,19...|    0|[2.20795638510969...|[0.90096172504999...|       0.0|\n",
      "+--------------------+-----+--------------------+--------------------+----------+\n",
      "only showing top 5 rows\n",
      "\n"
     ]
    }
   ],
   "source": [
    "#step 7: view some of the columns generated\n",
    "sample_data_train.select('features', 'label', 'rawPrediction', 'probability', 'prediction').show(5)"
   ]
  },
  {
   "cell_type": "code",
   "execution_count": 91,
   "metadata": {},
   "outputs": [
    {
     "name": "stdout",
     "output_type": "stream",
     "text": [
      "accuracy: 0.900016337199804\n"
     ]
    }
   ],
   "source": [
    "#step 8: classification evaluation\n",
    "BC_eval = MulticlassClassificationEvaluator(labelCol=\"label\", predictionCol=\"prediction\", metricName=\"accuracy\" )\n",
    "evaluate = BC_eval.evaluate(sample_data_train)\n",
    "print(\"accuracy:\",evaluate)"
   ]
  },
  {
   "cell_type": "code",
   "execution_count": 92,
   "metadata": {},
   "outputs": [
    {
     "name": "stdout",
     "output_type": "stream",
     "text": [
      "precision: 0.8100294072265513\n"
     ]
    }
   ],
   "source": [
    "BC_eval2 = MulticlassClassificationEvaluator(labelCol=\"label\", predictionCol=\"prediction\", metricName=\"weightedPrecision\" )\n",
    "evaluate2 = BC_eval2.evaluate(sample_data_train)\n",
    "print(\"precision:\",evaluate2)"
   ]
  },
  {
   "cell_type": "code",
   "execution_count": 93,
   "metadata": {},
   "outputs": [
    {
     "name": "stdout",
     "output_type": "stream",
     "text": [
      "f1: 0.8526552023445778\n"
     ]
    }
   ],
   "source": [
    "BC_eval3 = MulticlassClassificationEvaluator(labelCol=\"label\", predictionCol=\"prediction\", metricName=\"f1\" )\n",
    "evaluate3 = BC_eval3.evaluate(sample_data_train)\n",
    "print(\"f1:\",evaluate3)"
   ]
  },
  {
   "cell_type": "code",
   "execution_count": null,
   "metadata": {},
   "outputs": [],
   "source": []
  }
 ],
 "metadata": {
  "kernelspec": {
   "display_name": "Python 3",
   "language": "python",
   "name": "python3"
  },
  "language_info": {
   "codemirror_mode": {
    "name": "ipython",
    "version": 3
   },
   "file_extension": ".py",
   "mimetype": "text/x-python",
   "name": "python",
   "nbconvert_exporter": "python",
   "pygments_lexer": "ipython3",
   "version": "3.7.6"
  }
 },
 "nbformat": 4,
 "nbformat_minor": 4
}
